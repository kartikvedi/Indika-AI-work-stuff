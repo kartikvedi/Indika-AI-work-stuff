{
 "cells": [
  {
   "cell_type": "code",
   "execution_count": 1,
   "id": "ceed4c5a",
   "metadata": {},
   "outputs": [],
   "source": [
    "import os"
   ]
  },
  {
   "cell_type": "code",
   "execution_count": 2,
   "id": "dcc30b5d",
   "metadata": {},
   "outputs": [],
   "source": [
    "s_lis=['0','1','2','3','4','5','6','7','8','9',\"०\",\"१\",\"२\",\"३\",\"४\",\"५\",\"६\",\"७\",\"८\",\"९\",'@','?',\"_\",\"'\",\"/\",\";\",\"#\",\"!\",\"^\",\"%\",\"&\",\"(\",\")\",\"*\",\"-\",\"<\",\">\",\".\",\":\",\",\",\"$\",\"+\",\"=\",\"|\",\"\\\\\"]"
   ]
  },
  {
   "cell_type": "code",
   "execution_count": 3,
   "id": "5d5840ed",
   "metadata": {},
   "outputs": [
    {
     "data": {
      "text/plain": [
       "'C:\\\\Users\\\\ASUS\\\\Desktop\\\\Indika ai\\\\indika python scripts'"
      ]
     },
     "execution_count": 3,
     "metadata": {},
     "output_type": "execute_result"
    }
   ],
   "source": [
    "os.getcwd()"
   ]
  },
  {
   "cell_type": "code",
   "execution_count": 4,
   "id": "24052aff",
   "metadata": {},
   "outputs": [
    {
     "data": {
      "text/plain": [
       "['person_1',\n",
       " 'person_2',\n",
       " 'person_3',\n",
       " 'person_4',\n",
       " 'person_5',\n",
       " 'person_6',\n",
       " 'person_7',\n",
       " 'person_8',\n",
       " 'person_9']"
      ]
     },
     "execution_count": 4,
     "metadata": {},
     "output_type": "execute_result"
    }
   ],
   "source": [
    "os.listdir('C:/Users/ASUS/Desktop/Indika ai/Date_03_10_22_to_08_10_22')"
   ]
  },
  {
   "cell_type": "code",
   "execution_count": 6,
   "id": "ff8c6418",
   "metadata": {},
   "outputs": [],
   "source": [
    "# path = \"C:/Users/ASUS/Desktop/Indika ai/29 August - 3rd september/29 August - 3rd september/Saad Marathi August 29th/Completed/7020203630_L1859_2021-04-03-10-51-52/1.mp3\"\n",
    "# assert os.path.isfile(path)\n",
    "# with open(path,\"r\") as f:\n",
    "#     pass\n",
    "\n",
    "\n",
    "# Permission error:permission denied happens if you are trying to open a file but your path is folder\n",
    "# this assertion will fail if the path is actually of a folder"
   ]
  },
  {
   "cell_type": "code",
   "execution_count": 14,
   "id": "8574d5ba",
   "metadata": {},
   "outputs": [
    {
     "name": "stdout",
     "output_type": "stream",
     "text": [
      "Special characters count: 0\n"
     ]
    }
   ],
   "source": [
    "path =\"C:/Users/ASUS/Desktop/Indika ai/Date_03_10_22_to_08_10_22/person_9/completed\"\n",
    "users=os.listdir(path)\n",
    "schar_count=0           \n",
    "for user in users:\n",
    "    #print(user)\n",
    "    user_path = path + \"/\" + user\n",
    "    user_folders = os.listdir(user_path)\n",
    "    #print(user_folders)\n",
    "    for file in user_folders:\n",
    "        if file.endswith(\".mp3\"):\n",
    "            continue\n",
    "        \n",
    "        specific_file = user_path + \"/\" + file\n",
    "        final_data=[]\n",
    "        #print(specific_file)\n",
    "        try:\n",
    "            with open(specific_file, encoding=\"utf-8\", errors='ignore') as source:\n",
    "#                 print(\"sddfdf\",source.encoding)\n",
    "                final_data = source.read()\n",
    "#                 print(source.read())\n",
    "        except UnicodeDecodeError :\n",
    "            with open(specific_file, encoding=\"utf-8\", errors='ignore') as source:\n",
    "                final_data = source.read()\n",
    "#                 print(source.encoding)\n",
    "#                 print(source.read())\n",
    "            try:\n",
    "                with open(specific_file, \"rb\") as source:\n",
    "                    data = source.read().decode(\"ISO-8859-1\").encode(\"utf-8\")\n",
    "                with open(specific_file, \"wb\") as dest:\n",
    "                    dest.write(data)\n",
    "            except FileNotFoundError:\n",
    "                print(\"😰  That file doesn't seem to exist.\")\n",
    "        for char in final_data:\n",
    "            if char in s_lis:\n",
    "                schar_count+=1\n",
    "                print(specific_file + ' - ' + char)\n",
    "print(f'Special characters count: {schar_count}')   "
   ]
  },
  {
   "cell_type": "code",
   "execution_count": 14,
   "id": "46fe618d",
   "metadata": {},
   "outputs": [
    {
     "ename": "FileNotFoundError",
     "evalue": "[WinError 3] The system cannot find the path specified: 'C:/Users/ASUS/Desktop/Indika ai/29 August - 3rd september/12th september-17th september/Saad Marathi September 29th/Completed'",
     "output_type": "error",
     "traceback": [
      "\u001b[1;31m---------------------------------------------------------------------------\u001b[0m",
      "\u001b[1;31mFileNotFoundError\u001b[0m                         Traceback (most recent call last)",
      "Input \u001b[1;32mIn [14]\u001b[0m, in \u001b[0;36m<cell line: 2>\u001b[1;34m()\u001b[0m\n\u001b[0;32m      1\u001b[0m path \u001b[38;5;241m=\u001b[39m\u001b[38;5;124m\"\u001b[39m\u001b[38;5;124mC:/Users/ASUS/Desktop/Indika ai/29 August - 3rd september/12th september-17th september/Saad Marathi September 29th/Completed\u001b[39m\u001b[38;5;124m\"\u001b[39m\n\u001b[1;32m----> 2\u001b[0m users\u001b[38;5;241m=\u001b[39m\u001b[43mos\u001b[49m\u001b[38;5;241;43m.\u001b[39;49m\u001b[43mlistdir\u001b[49m\u001b[43m(\u001b[49m\u001b[43mpath\u001b[49m\u001b[43m)\u001b[49m\n\u001b[0;32m      3\u001b[0m schar_count\u001b[38;5;241m=\u001b[39m\u001b[38;5;241m0\u001b[39m\n\u001b[0;32m      4\u001b[0m \u001b[38;5;28;01mfor\u001b[39;00m user \u001b[38;5;129;01min\u001b[39;00m users:\n\u001b[0;32m      5\u001b[0m \u001b[38;5;66;03m#     print(user)\u001b[39;00m\n",
      "\u001b[1;31mFileNotFoundError\u001b[0m: [WinError 3] The system cannot find the path specified: 'C:/Users/ASUS/Desktop/Indika ai/29 August - 3rd september/12th september-17th september/Saad Marathi September 29th/Completed'"
     ]
    }
   ],
   "source": [
    "path =\"C:/Users/ASUS/Desktop/Indika ai/29 August - 3rd september/12th september-17th september/Saad Marathi September 29th/Completed\"\n",
    "users=os.listdir(path)\n",
    "schar_count=0\n",
    "for user in users:\n",
    "#     print(user)\n",
    "    user_path = path + \"/\" + user\n",
    "    user_folders = os.listdir(user_path)\n",
    "#     print(user_folders)\n",
    "    for file in user_folders:\n",
    "        if file.endswith(\".mp3\"):\n",
    "            continue\n",
    "        \n",
    "        specific_file = user_path + \"/\" + file\n",
    "        final_data=[]\n",
    "#         print(specific_file)\n",
    "        \n",
    "        try:\n",
    "            with open(specific_file, encoding=\"utf-8\", errors='ignore') as source:\n",
    "                print(\"sddfdf\",source.encoding)\n",
    "                final_data = source.read()\n",
    "                print(source.read())\n",
    "                \n",
    "        except UnicodeDecodeError :\n",
    "            with open(specific_file, encoding=\"utf-8\", errors='ignore') as source:\n",
    "                final_data = source.read()\n",
    "                print(source.encoding)\n",
    "                print(source.read())\n",
    "                "
   ]
  },
  {
   "cell_type": "code",
   "execution_count": 6,
   "id": "931d693f",
   "metadata": {},
   "outputs": [
    {
     "name": "stdout",
     "output_type": "stream",
     "text": [
      "Special characters count: 0\n"
     ]
    }
   ],
   "source": [
    "path =\"C:/Users/pc/Desktop/Work_submission_18thJuly_to_23rdJuly/Gaurav\"\n",
    "users=os.listdir(path)\n",
    "schar_count=0\n",
    "for user in users:\n",
    "    #print(user)\n",
    "    user_path = path + \"/\" + user\n",
    "    user_folders = os.listdir(user_path)\n",
    "    #print(user_folders)\n",
    "    for file in user_folders:\n",
    "        if file.endswith(\".mp3\"):\n",
    "            continue\n",
    "        \n",
    "        specific_file = user_path + \"/\" + file\n",
    "        final_data=[]\n",
    "        #print(specific_file)\n",
    "        try:\n",
    "            with open(specific_file) as source:\n",
    "#                 print(\"sddfdf\",source.encoding)\n",
    "                final_data = source.read()\n",
    "#                 print(source.read())\n",
    "        except UnicodeDecodeError :\n",
    "            with open(specific_file, encoding=\"utf-8\") as source:\n",
    "                final_data = source.read()\n",
    "#                 print(source.encoding)\n",
    "#                 print(source.read())\n",
    "            try:\n",
    "                with open(specific_file, \"rb\") as source:\n",
    "                    data = source.read().decode(\"ISO-8859-1\").encode(\"utf-8\")\n",
    "                with open(specific_file, \"wb\") as dest:\n",
    "                    dest.write(data)\n",
    "            except FileNotFoundError:\n",
    "                print(\"😰  That file doesn't seem to exist.\")\n",
    "        for char in final_data:\n",
    "            if char in s_lis:\n",
    "                schar_count+=1\n",
    "                print(specific_file + ' - ' + char)\n",
    "print(f'Special characters count: {schar_count}')   "
   ]
  },
  {
   "cell_type": "code",
   "execution_count": 7,
   "id": "4286db37",
   "metadata": {},
   "outputs": [
    {
     "name": "stdout",
     "output_type": "stream",
     "text": [
      "Special characters count: 0\n"
     ]
    }
   ],
   "source": [
    "path =\"C:/Users/pc/Desktop/Work_submission_18thJuly_to_23rdJuly/Meghna\"\n",
    "users=os.listdir(path)\n",
    "schar_count=0\n",
    "for user in users:\n",
    "    #print(user)\n",
    "    user_path = path + \"/\" + user\n",
    "    user_folders = os.listdir(user_path)\n",
    "    #print(user_folders)\n",
    "    for file in user_folders:\n",
    "        if file.endswith(\".mp3\"):\n",
    "            continue\n",
    "        \n",
    "        specific_file = user_path + \"/\" + file\n",
    "        final_data=[]\n",
    "        #print(specific_file)\n",
    "        try:\n",
    "            with open(specific_file) as source:\n",
    "#                 print(\"sddfdf\",source.encoding)\n",
    "                final_data = source.read()\n",
    "#                 print(source.read())\n",
    "        except UnicodeDecodeError :\n",
    "            with open(specific_file, encoding=\"utf-8\") as source:\n",
    "                final_data = source.read()\n",
    "#                 print(source.encoding)\n",
    "#                 print(source.read())\n",
    "            try:\n",
    "                with open(specific_file, \"rb\") as source:\n",
    "                    data = source.read().decode(\"ISO-8859-1\").encode(\"utf-8\")\n",
    "                with open(specific_file, \"wb\") as dest:\n",
    "                    dest.write(data)\n",
    "            except FileNotFoundError:\n",
    "                print(\"😰  That file doesn't seem to exist.\")\n",
    "        for char in final_data:\n",
    "            if char in s_lis:\n",
    "                schar_count+=1\n",
    "                print(specific_file + ' - ' + char)\n",
    "print(f'Special characters count: {schar_count}')   "
   ]
  },
  {
   "cell_type": "code",
   "execution_count": 8,
   "id": "21e7afcb",
   "metadata": {},
   "outputs": [],
   "source": [
    "import librosa"
   ]
  },
  {
   "cell_type": "code",
   "execution_count": 9,
   "id": "db96a609",
   "metadata": {},
   "outputs": [
    {
     "name": "stdout",
     "output_type": "stream",
     "text": [
      "Total duration: 1557.5999999999985\n"
     ]
    }
   ],
   "source": [
    "path =\"C:/Users/pc/Desktop/Work_submission_18thJuly_to_23rdJuly/Bhakti\"\n",
    "users=os.listdir(path)\n",
    "total_duration=0\n",
    "#print(users)\n",
    "for user in users:\n",
    "    user_path = path + \"/\" + user\n",
    "    user_folders=os.listdir(user_path)\n",
    "    #print(user_folders)\n",
    "    for file in user_folders:\n",
    "        if file.endswith(\".mp3\"):\n",
    "            try:\n",
    "                #print(file)\n",
    "                duration=librosa.get_duration(filename=user_path + \"/\" + file)\n",
    "                #print(duration)\n",
    "                total_duration+=duration\n",
    "            except Exception:\n",
    "                print(\"😰  Exception Occurred.\")\n",
    "print(f'Total duration: {total_duration}')"
   ]
  },
  {
   "cell_type": "code",
   "execution_count": 10,
   "id": "36e22666",
   "metadata": {},
   "outputs": [
    {
     "name": "stdout",
     "output_type": "stream",
     "text": [
      "Total duration: 1256.1000000000022\n"
     ]
    }
   ],
   "source": [
    "path =\"C:/Users/pc/Desktop/Work_submission_18thJuly_to_23rdJuly/Gaurav\"\n",
    "users=os.listdir(path)\n",
    "total_duration=0\n",
    "#print(users)\n",
    "for user in users:\n",
    "    user_path = path + \"/\" + user\n",
    "    user_folders=os.listdir(user_path)\n",
    "    #print(user_folders)\n",
    "    for file in user_folders:\n",
    "        if file.endswith(\".mp3\"):\n",
    "            try:\n",
    "                #print(file)\n",
    "                duration=librosa.get_duration(filename=user_path + \"/\" + file)\n",
    "                #print(duration)\n",
    "                total_duration+=duration\n",
    "            except Exception:\n",
    "                print(\"😰  Exception Occurred.\")\n",
    "print(f'Total duration: {total_duration}')"
   ]
  },
  {
   "cell_type": "code",
   "execution_count": 11,
   "id": "44ecb9f8",
   "metadata": {},
   "outputs": [
    {
     "name": "stdout",
     "output_type": "stream",
     "text": [
      "Total duration: 2263.299999999997\n"
     ]
    }
   ],
   "source": [
    "path =\"C:/Users/pc/Desktop/Work_submission_18thJuly_to_23rdJuly/Meghna\"\n",
    "users=os.listdir(path)\n",
    "total_duration=0\n",
    "#print(users)\n",
    "for user in users:\n",
    "    user_path = path + \"/\" + user\n",
    "    user_folders=os.listdir(user_path)\n",
    "    #print(user_folders)\n",
    "    for file in user_folders:\n",
    "        if file.endswith(\".mp3\"):\n",
    "            try:\n",
    "                #print(file)\n",
    "                duration=librosa.get_duration(filename=user_path + \"/\" + file)\n",
    "                #print(duration)\n",
    "                total_duration+=duration\n",
    "            except Exception:\n",
    "                print(\"😰  Exception Occurred.\")\n",
    "print(f'Total duration: {total_duration}')"
   ]
  },
  {
   "cell_type": "code",
   "execution_count": 12,
   "id": "95d64be0",
   "metadata": {},
   "outputs": [
    {
     "name": "stdout",
     "output_type": "stream",
     "text": [
      "1557.5999999999985\n",
      "1256.1000000000022\n",
      "2263.299999999997\n",
      "Total duration final: 5076.999999999998\n"
     ]
    }
   ],
   "source": [
    "d1=1557.5999999999985\n",
    "d2=1256.1000000000022\n",
    "d3=2263.299999999997\n",
    "total_duration_final=d1+d2+d3\n",
    "print(d1)\n",
    "print(d2)\n",
    "print(d3)\n",
    "print(f'Total duration final: {total_duration_final}')"
   ]
  },
  {
   "cell_type": "code",
   "execution_count": null,
   "id": "21ef2029",
   "metadata": {},
   "outputs": [],
   "source": []
  }
 ],
 "metadata": {
  "kernelspec": {
   "display_name": "Python 3 (ipykernel)",
   "language": "python",
   "name": "python3"
  },
  "language_info": {
   "codemirror_mode": {
    "name": "ipython",
    "version": 3
   },
   "file_extension": ".py",
   "mimetype": "text/x-python",
   "name": "python",
   "nbconvert_exporter": "python",
   "pygments_lexer": "ipython3",
   "version": "3.10.5"
  },
  "toc": {
   "base_numbering": 1,
   "nav_menu": {},
   "number_sections": true,
   "sideBar": true,
   "skip_h1_title": false,
   "title_cell": "Table of Contents",
   "title_sidebar": "Contents",
   "toc_cell": false,
   "toc_position": {},
   "toc_section_display": true,
   "toc_window_display": false
  },
  "varInspector": {
   "cols": {
    "lenName": 16,
    "lenType": 16,
    "lenVar": 40
   },
   "kernels_config": {
    "python": {
     "delete_cmd_postfix": "",
     "delete_cmd_prefix": "del ",
     "library": "var_list.py",
     "varRefreshCmd": "print(var_dic_list())"
    },
    "r": {
     "delete_cmd_postfix": ") ",
     "delete_cmd_prefix": "rm(",
     "library": "var_list.r",
     "varRefreshCmd": "cat(var_dic_list()) "
    }
   },
   "oldHeight": 122.84966599999998,
   "position": {
    "height": "40px",
    "left": "1010px",
    "right": "20px",
    "top": "120px",
    "width": "250px"
   },
   "types_to_exclude": [
    "module",
    "function",
    "builtin_function_or_method",
    "instance",
    "_Feature"
   ],
   "varInspector_section_display": "none",
   "window_display": false
  }
 },
 "nbformat": 4,
 "nbformat_minor": 5
}
