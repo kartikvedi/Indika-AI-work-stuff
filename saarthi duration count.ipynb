{
 "cells": [
  {
   "cell_type": "code",
   "execution_count": 17,
   "id": "c1d7e217",
   "metadata": {},
   "outputs": [],
   "source": [
    "import os\n",
    "from pydub import AudioSegment"
   ]
  },
  {
   "cell_type": "code",
   "execution_count": 20,
   "id": "e8044b35",
   "metadata": {},
   "outputs": [
    {
     "name": "stdout",
     "output_type": "stream",
     "text": [
      "25341.830000000027\n"
     ]
    }
   ],
   "source": [
    "directory = 'C:\\\\Users\\\\Mudit\\\\Desktop\\\\Indika AI\\\\Redcliff lable - Work_submission_10thOct_to_15thOct(3rd Batch)'\n",
    "count = 0\n",
    "for filename in os.scandir(directory):\n",
    "    path = os.path.join(directory, filename)\n",
    "    for y in os.scandir(path):\n",
    "        path2 = os.path.join(path, y)\n",
    "        for z in os.scandir(path2):\n",
    "             if z.name.endswith('.wav'):\n",
    "                    path3 = os.path.join(path2, z)\n",
    "                    sound = AudioSegment.from_file(path3)\n",
    "                    sound.duration_seconds == (len(sound) / 1000.0)\n",
    "                    seconds_duration = round((sound.duration_seconds % 60),3)\n",
    "                    count = count + seconds_duration\n",
    "\n",
    "print(count)            \n",
    "       "
   ]
  }
 ],
 "metadata": {
  "kernelspec": {
   "display_name": "Python 3 (ipykernel)",
   "language": "python",
   "name": "python3"
  },
  "language_info": {
   "codemirror_mode": {
    "name": "ipython",
    "version": 3
   },
   "file_extension": ".py",
   "mimetype": "text/x-python",
   "name": "python",
   "nbconvert_exporter": "python",
   "pygments_lexer": "ipython3",
   "version": "3.9.12"
  }
 },
 "nbformat": 4,
 "nbformat_minor": 5
}
