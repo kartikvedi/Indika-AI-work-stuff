{
 "cells": [
  {
   "cell_type": "code",
   "execution_count": 2,
   "id": "5a094af4",
   "metadata": {},
   "outputs": [],
   "source": [
    "import pixellib\n",
    "from pixellib.tune_bg import alter_bg\n",
    "\n",
    "change_bg = alter_bg()\n",
    "change_bg.load_pascalvoc_model(\"C:/Users/pc/deeplabv3_xception_tf_dim_ordering_tf_kernels.h5\")"
   ]
  },
  {
   "cell_type": "code",
   "execution_count": 6,
   "id": "f6bb85c7",
   "metadata": {},
   "outputs": [
    {
     "data": {
      "text/plain": [
       "array([[[111, 105,  98],\n",
       "        [111, 105,  98],\n",
       "        [110, 104,  97],\n",
       "        ...,\n",
       "        [111, 108, 100],\n",
       "        [110, 107,  99],\n",
       "        [110, 107,  99]],\n",
       "\n",
       "       [[110, 103,  97],\n",
       "        [109, 103,  96],\n",
       "        [108, 102,  95],\n",
       "        ...,\n",
       "        [111, 108, 100],\n",
       "        [111, 108, 100],\n",
       "        [111, 108, 100]],\n",
       "\n",
       "       [[109, 101,  94],\n",
       "        [107, 100,  93],\n",
       "        [104,  97,  90],\n",
       "        ...,\n",
       "        [111, 108, 100],\n",
       "        [113, 110, 102],\n",
       "        [114, 111, 103]],\n",
       "\n",
       "       ...,\n",
       "\n",
       "       [[ 96,  90,  85],\n",
       "        [ 96,  90,  85],\n",
       "        [ 96,  90,  85],\n",
       "        ...,\n",
       "        [102,  98,  93],\n",
       "        [ 99,  95,  90],\n",
       "        [ 98,  94,  89]],\n",
       "\n",
       "       [[ 99,  92,  88],\n",
       "        [ 99,  92,  88],\n",
       "        [ 99,  92,  88],\n",
       "        ...,\n",
       "        [ 97,  92,  88],\n",
       "        [ 94,  90,  85],\n",
       "        [ 92,  89,  84]],\n",
       "\n",
       "       [[100,  94,  89],\n",
       "        [100,  94,  89],\n",
       "        [100,  94,  89],\n",
       "        ...,\n",
       "        [ 94,  90,  85],\n",
       "        [ 91,  87,  82],\n",
       "        [ 90,  86,  81]]], dtype=uint8)"
      ]
     },
     "execution_count": 6,
     "metadata": {},
     "output_type": "execute_result"
    }
   ],
   "source": [
    "change_bg.change_bg_img(f_image_path = \"C:/Users/pc/Desktop/sheerdrive AI/wagonr.jfif\",b_image_path = \"C:/Users/pc/Desktop/sheerdrive AI/car_bg.jpg\", output_image_name=\"new_img2.jpg\")"
   ]
  },
  {
   "cell_type": "code",
   "execution_count": null,
   "id": "094f962a",
   "metadata": {},
   "outputs": [],
   "source": []
  }
 ],
 "metadata": {
  "kernelspec": {
   "display_name": "Python 3 (ipykernel)",
   "language": "python",
   "name": "python3"
  },
  "language_info": {
   "codemirror_mode": {
    "name": "ipython",
    "version": 3
   },
   "file_extension": ".py",
   "mimetype": "text/x-python",
   "name": "python",
   "nbconvert_exporter": "python",
   "pygments_lexer": "ipython3",
   "version": "3.9.7"
  }
 },
 "nbformat": 4,
 "nbformat_minor": 5
}
